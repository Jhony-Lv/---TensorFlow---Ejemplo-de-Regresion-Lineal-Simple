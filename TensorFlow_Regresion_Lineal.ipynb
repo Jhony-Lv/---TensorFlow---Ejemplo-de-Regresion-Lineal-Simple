{
 "cells": [
  {
   "cell_type": "code",
   "execution_count": 1,
   "id": "8f99d3db",
   "metadata": {},
   "outputs": [],
   "source": [
    "import tensorflow as tf\n",
    "import numpy as np\n",
    "import matplotlib.pyplot as plt"
   ]
  },
  {
   "cell_type": "code",
   "execution_count": 4,
   "id": "6d5ae36c",
   "metadata": {},
   "outputs": [],
   "source": [
    "datos_x = np.linspace(0,10, 10) + np.random.uniform(-1,1, 10)"
   ]
  },
  {
   "cell_type": "code",
   "execution_count": 6,
   "id": "6c483b54",
   "metadata": {},
   "outputs": [],
   "source": [
    "datos_y = np.linspace(0,10, 10) + np.random.uniform(-1,1, 10)"
   ]
  },
  {
   "cell_type": "code",
   "execution_count": 20,
   "id": "6986d9ae",
   "metadata": {
    "scrolled": true
   },
   "outputs": [
    {
     "data": {
      "text/plain": [
       "[<matplotlib.lines.Line2D at 0x1b2fece9f08>]"
      ]
     },
     "execution_count": 20,
     "metadata": {},
     "output_type": "execute_result"
    },
    {
     "data": {
      "image/png": "[encoded data removed]",
      "text/plain": [
       "<Figure size 640x480 with 1 Axes>"
      ]
     },
     "metadata": {},
     "output_type": "display_data"
    }
   ],
   "source": [
    "plt.plot(datos_x, datos_y, '*r')"
   ]
  },
  {
   "cell_type": "code",
   "execution_count": 10,
   "id": "8da8857a",
   "metadata": {},
   "outputs": [
    {
     "data": {
      "text/plain": [
       "array([0.73128294, 0.54861492])"
      ]
     },
     "execution_count": 10,
     "metadata": {},
     "output_type": "execute_result"
    }
   ],
   "source": [
    "np.random.rand(2)"
   ]
  },
  {
   "cell_type": "code",
   "execution_count": 44,
   "id": "fca3d477",
   "metadata": {},
   "outputs": [],
   "source": [
    "m = tf.Variable(0.81)\n",
    "b = tf.Variable(0.87)"
   ]
  },
  {
   "cell_type": "code",
   "execution_count": 45,
   "id": "dcc1a921",
   "metadata": {},
   "outputs": [],
   "source": [
    "error = 0\n",
    "for x, y in zip(datos_x, datos_y):\n",
    "    y_pred = m*x+b\n",
    "    error = error +(y - y_pred)**2"
   ]
  },
  {
   "cell_type": "code",
   "execution_count": 46,
   "id": "24e1bd11",
   "metadata": {},
   "outputs": [],
   "source": [
    "optimizador = tf.train.GradientDescentOptimizer(learning_rate=0.001)\n",
    "entrenamiento = optimizador.minimize(error)"
   ]
  },
  {
   "cell_type": "code",
   "execution_count": 47,
   "id": "e64b63e0",
   "metadata": {},
   "outputs": [],
   "source": [
    "inicializacion = tf.global_variables_initializer()"
   ]
  },
  {
   "cell_type": "code",
   "execution_count": 48,
   "id": "f50374f6",
   "metadata": {},
   "outputs": [],
   "source": [
    "with tf.Session() as sesion:\n",
    "    sesion.run(inicializacion)\n",
    "    pasos = 1\n",
    "    for i in range(pasos):\n",
    "        sesion.run(entrenamiento)\n",
    "    final_m, final_b = sesion.run([m,b])"
   ]
  },
  {
   "cell_type": "code",
   "execution_count": 49,
   "id": "469a62e7",
   "metadata": {},
   "outputs": [
    {
     "data": {
      "text/plain": [
       "0.8572153"
      ]
     },
     "execution_count": 49,
     "metadata": {},
     "output_type": "execute_result"
    }
   ],
   "source": [
    "final_m"
   ]
  },
  {
   "cell_type": "code",
   "execution_count": 50,
   "id": "cc7656a3",
   "metadata": {},
   "outputs": [
    {
     "data": {
      "text/plain": [
       "0.8729081"
      ]
     },
     "execution_count": 50,
     "metadata": {},
     "output_type": "execute_result"
    }
   ],
   "source": [
    "final_b"
   ]
  },
  {
   "cell_type": "code",
   "execution_count": 30,
   "id": "324c5664",
   "metadata": {},
   "outputs": [],
   "source": [
    "x_test = np.linspace(-1,11, 10)"
   ]
  },
  {
   "cell_type": "code",
   "execution_count": 51,
   "id": "d5b4e4ce",
   "metadata": {},
   "outputs": [],
   "source": [
    "y_pred_2 = (final_m * x_test) + final_b"
   ]
  },
  {
   "cell_type": "code",
   "execution_count": 52,
   "id": "13765f85",
   "metadata": {},
   "outputs": [
    {
     "data": {
      "text/plain": [
       "[<matplotlib.lines.Line2D at 0x1b28149a948>]"
      ]
     },
     "execution_count": 52,
     "metadata": {},
     "output_type": "execute_result"
    },
    {
     "name": "stdout",
     "output_type": "stream",
     "text": [
      "ERROR! Session/line number was not unique in database. History logging moved to new session 59\n"
     ]
    },
    {
     "data": {
      "image/png": "[encoded data removed]",
      "text/plain": [
       "<Figure size 640x480 with 1 Axes>"
      ]
     },
     "metadata": {},
     "output_type": "display_data"
    }
   ],
   "source": [
    "plt.plot(x_test, y_pred_2, 'r')\n",
    "plt.plot(datos_x, datos_y, '*')"
   ]
  }
 ],
 "metadata": {
  "kernelspec": {
   "display_name": "Python 3 (ipykernel)",
   "language": "python",
   "name": "python3"
  },
  "language_info": {
   "codemirror_mode": {
    "name": "ipython",
    "version": 3
   },
   "file_extension": ".py",
   "mimetype": "text/x-python",
   "name": "python",
   "nbconvert_exporter": "python",
   "pygments_lexer": "ipython3",
   "version": "3.7.13"
  }
 },
 "nbformat": 4,
 "nbformat_minor": 5
}
